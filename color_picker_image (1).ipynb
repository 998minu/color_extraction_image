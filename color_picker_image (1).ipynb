{
  "nbformat": 4,
  "nbformat_minor": 0,
  "metadata": {
    "colab": {
      "provenance": []
    },
    "kernelspec": {
      "name": "python3",
      "display_name": "Python 3"
    },
    "language_info": {
      "name": "python"
    }
  },
  "cells": [
    {
      "cell_type": "code",
      "execution_count": 1,
      "metadata": {
        "colab": {
          "base_uri": "https://localhost:8080/"
        },
        "id": "AO1xsn6SRtjG",
        "outputId": "7f0d50b8-9eda-4f69-cd45-79714b6a4406"
      },
      "outputs": [
        {
          "output_type": "stream",
          "name": "stdout",
          "text": [
            "Requirement already satisfied: numpy in /usr/local/lib/python3.10/dist-packages (1.25.2)\n",
            "Requirement already satisfied: opencv-python in /usr/local/lib/python3.10/dist-packages (4.8.0.76)\n",
            "Requirement already satisfied: scikit-learn in /usr/local/lib/python3.10/dist-packages (1.2.2)\n",
            "Requirement already satisfied: scipy>=1.3.2 in /usr/local/lib/python3.10/dist-packages (from scikit-learn) (1.11.4)\n",
            "Requirement already satisfied: joblib>=1.1.1 in /usr/local/lib/python3.10/dist-packages (from scikit-learn) (1.4.2)\n",
            "Requirement already satisfied: threadpoolctl>=2.0.0 in /usr/local/lib/python3.10/dist-packages (from scikit-learn) (3.5.0)\n"
          ]
        }
      ],
      "source": [
        "!pip install numpy opencv-python scikit-learn\n"
      ]
    },
    {
      "cell_type": "code",
      "source": [
        "import cv2\n",
        "import numpy as np\n",
        "from sklearn.cluster import KMeans\n",
        "import matplotlib.pyplot as plt"
      ],
      "metadata": {
        "id": "PtuqtEgbR1Wf"
      },
      "execution_count": 2,
      "outputs": []
    },
    {
      "cell_type": "code",
      "source": [
        "def get_dominant_colors(image_path, num_colors=5):\n",
        "    # Load the image\n",
        "    image = cv2.imread(image_path)\n",
        "    # Convert to RGB\n",
        "    image = cv2.cvtColor(image, cv2.COLOR_BGR2RGB)\n",
        "\n",
        "    # Reshape the image to be a list of pixels\n",
        "    pixels = image.reshape((-1, 3))\n",
        "\n",
        "    # Apply KMeans to find the most dominant colors\n",
        "    kmeans = KMeans(n_clusters=num_colors)\n",
        "    kmeans.fit(pixels)\n",
        "\n",
        "    # Get the cluster centers (dominant colors)\n",
        "    dominant_colors = kmeans.cluster_centers_.astype(int)\n",
        "\n",
        "    return dominant_colors"
      ],
      "metadata": {
        "id": "Y55oGvV2R1Tm"
      },
      "execution_count": 3,
      "outputs": []
    },
    {
      "cell_type": "code",
      "source": [
        "def plot_colors(colors):\n",
        "    # Plot the colors as a bar chart\n",
        "    fig, ax = plt.subplots(1, 1, figsize=(8, 2),\n",
        "                           subplot_kw=dict(xticks=[], yticks=[], frame_on=False))\n",
        "    for sp in ax.spines.values():\n",
        "        sp.set_visible(False)\n",
        "\n",
        "    ax.imshow([colors], aspect='auto')\n",
        "    plt.show()"
      ],
      "metadata": {
        "id": "Z5hnxRLfSFYU"
      },
      "execution_count": 4,
      "outputs": []
    },
    {
      "cell_type": "code",
      "source": [
        "image_path = '/content/Screenshot from 2024-05-24 12-02-34.png'  # Replace with the path to your image\n",
        "dominant_colors = get_dominant_colors(image_path, num_colors=5)\n",
        "print(\"Dominant Colors:\", dominant_colors)\n",
        "plot_colors(dominant_colors)"
      ],
      "metadata": {
        "colab": {
          "base_uri": "https://localhost:8080/",
          "height": 333
        },
        "id": "xE-tudkgSFPk",
        "outputId": "25776a0f-d9a0-42d7-b312-eb104444f72c"
      },
      "execution_count": 6,
      "outputs": [
        {
          "output_type": "stream",
          "name": "stderr",
          "text": [
            "/usr/local/lib/python3.10/dist-packages/sklearn/cluster/_kmeans.py:870: FutureWarning: The default value of `n_init` will change from 10 to 'auto' in 1.4. Set the value of `n_init` explicitly to suppress the warning\n",
            "  warnings.warn(\n"
          ]
        },
        {
          "output_type": "stream",
          "name": "stdout",
          "text": [
            "Dominant Colors: [[202 174 131]\n",
            " [ 22  21  16]\n",
            " [190 206  30]\n",
            " [219 220 192]\n",
            " [141 107  58]]\n"
          ]
        },
        {
          "output_type": "display_data",
          "data": {
            "text/plain": [
              "<Figure size 800x200 with 1 Axes>"
            ],
            "image/png": "[encoded data removed]"
          },
          "metadata": {}
        }
      ]
    },
    {
      "cell_type": "code",
      "source": [],
      "metadata": {
        "id": "_6vLGdj0SFIu"
      },
      "execution_count": null,
      "outputs": []
    },
    {
      "cell_type": "code",
      "source": [],
      "metadata": {
        "id": "m2dQNUsUTuuf"
      },
      "execution_count": null,
      "outputs": []
    },
    {
      "cell_type": "code",
      "source": [
        "!pip install colorthief"
      ],
      "metadata": {
        "colab": {
          "base_uri": "https://localhost:8080/"
        },
        "id": "GrUITM90Turr",
        "outputId": "6e8f3a47-2dbd-4521-82b4-efdef974211e"
      },
      "execution_count": 2,
      "outputs": [
        {
          "output_type": "stream",
          "name": "stdout",
          "text": [
            "Collecting colorthief\n",
            "  Downloading colorthief-0.2.1-py2.py3-none-any.whl (6.1 kB)\n",
            "Requirement already satisfied: Pillow in /usr/local/lib/python3.10/dist-packages (from colorthief) (9.4.0)\n",
            "Installing collected packages: colorthief\n",
            "Successfully installed colorthief-0.2.1\n"
          ]
        }
      ]
    },
    {
      "cell_type": "code",
      "source": [
        "!pip install matplotlib"
      ],
      "metadata": {
        "colab": {
          "base_uri": "https://localhost:8080/"
        },
        "id": "AvZYkG32Tuo3",
        "outputId": "797d8984-bf4f-429b-e0d9-5b5c5ace902b"
      },
      "execution_count": 3,
      "outputs": [
        {
          "output_type": "stream",
          "name": "stdout",
          "text": [
            "Requirement already satisfied: matplotlib in /usr/local/lib/python3.10/dist-packages (3.7.1)\n",
            "Requirement already satisfied: contourpy>=1.0.1 in /usr/local/lib/python3.10/dist-packages (from matplotlib) (1.2.1)\n",
            "Requirement already satisfied: cycler>=0.10 in /usr/local/lib/python3.10/dist-packages (from matplotlib) (0.12.1)\n",
            "Requirement already satisfied: fonttools>=4.22.0 in /usr/local/lib/python3.10/dist-packages (from matplotlib) (4.51.0)\n",
            "Requirement already satisfied: kiwisolver>=1.0.1 in /usr/local/lib/python3.10/dist-packages (from matplotlib) (1.4.5)\n",
            "Requirement already satisfied: numpy>=1.20 in /usr/local/lib/python3.10/dist-packages (from matplotlib) (1.25.2)\n",
            "Requirement already satisfied: packaging>=20.0 in /usr/local/lib/python3.10/dist-packages (from matplotlib) (24.0)\n",
            "Requirement already satisfied: pillow>=6.2.0 in /usr/local/lib/python3.10/dist-packages (from matplotlib) (9.4.0)\n",
            "Requirement already satisfied: pyparsing>=2.3.1 in /usr/local/lib/python3.10/dist-packages (from matplotlib) (3.1.2)\n",
            "Requirement already satisfied: python-dateutil>=2.7 in /usr/local/lib/python3.10/dist-packages (from matplotlib) (2.8.2)\n",
            "Requirement already satisfied: six>=1.5 in /usr/local/lib/python3.10/dist-packages (from python-dateutil>=2.7->matplotlib) (1.16.0)\n"
          ]
        }
      ]
    },
    {
      "cell_type": "code",
      "source": [
        "from colorthief import ColorThief\n",
        "import matplotlib.pyplot as plt\n",
        "import colorsys"
      ],
      "metadata": {
        "id": "vC1qMr_QTul7"
      },
      "execution_count": 4,
      "outputs": []
    },
    {
      "cell_type": "code",
      "source": [
        "ct=ColorThief(\"/content/Screenshot from 2024-05-24 12-02-34.png\")"
      ],
      "metadata": {
        "id": "fhpZcivLTujM"
      },
      "execution_count": 5,
      "outputs": []
    },
    {
      "cell_type": "code",
      "source": [
        "dominant_color= ct.get_color(quality=1)"
      ],
      "metadata": {
        "id": "ix3o-F_JTugY"
      },
      "execution_count": 6,
      "outputs": []
    },
    {
      "cell_type": "code",
      "source": [
        "\n",
        "# Plot the dominant color\n",
        "plt.imshow([[dominant_color]])\n",
        "plt.show()"
      ],
      "metadata": {
        "colab": {
          "base_uri": "https://localhost:8080/",
          "height": 430
        },
        "id": "vU-7caUgTudq",
        "outputId": "206716d6-039e-45a7-c624-6112c196e041"
      },
      "execution_count": 7,
      "outputs": [
        {
          "output_type": "display_data",
          "data": {
            "text/plain": [
              "<Figure size 640x480 with 1 Axes>"
            ],
            "image/png": "[encoded data removed]"
          },
          "metadata": {}
        }
      ]
    },
    {
      "cell_type": "code",
      "source": [
        "palette=ct.get_palette(color_count=5)"
      ],
      "metadata": {
        "id": "SF5RTNjNTuaZ"
      },
      "execution_count": 8,
      "outputs": []
    },
    {
      "cell_type": "code",
      "source": [
        "plt.imshow([[palette[i] for i in range(5)]])\n",
        "plt.show()"
      ],
      "metadata": {
        "colab": {
          "base_uri": "https://localhost:8080/",
          "height": 165
        },
        "id": "BiY3_uJtTuW2",
        "outputId": "8f6f001a-8d00-4ca8-ace1-56464d68f3a0"
      },
      "execution_count": 9,
      "outputs": [
        {
          "output_type": "display_data",
          "data": {
            "text/plain": [
              "<Figure size 640x480 with 1 Axes>"
            ],
            "image/png": "[encoded data removed]"
          },
          "metadata": {}
        }
      ]
    },
    {
      "cell_type": "code",
      "source": [
        "for color in palette:\n",
        "    print(color)\n",
        "    print(f\"#{color[0]:02X}{color[1]:02X}{color[2]:02X}\")"
      ],
      "metadata": {
        "colab": {
          "base_uri": "https://localhost:8080/"
        },
        "id": "gB9tLNEJYTVY",
        "outputId": "1970a011-83a3-49b9-e243-7218ddf0b0a1"
      },
      "execution_count": 10,
      "outputs": [
        {
          "output_type": "stream",
          "name": "stdout",
          "text": [
            "(206, 186, 125)\n",
            "#CEBA7D\n",
            "(26, 24, 19)\n",
            "#1A1813\n",
            "(184, 199, 21)\n",
            "#B8C715\n",
            "(202, 215, 214)\n",
            "#CAD7D6\n",
            "(126, 82, 39)\n",
            "#7E5227\n"
          ]
        }
      ]
    },
    {
      "cell_type": "code",
      "source": [],
      "metadata": {
        "id": "42R_-AzIYTKQ"
      },
      "execution_count": null,
      "outputs": []
    }
  ]
}